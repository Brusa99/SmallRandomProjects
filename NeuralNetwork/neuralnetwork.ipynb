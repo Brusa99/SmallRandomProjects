{
 "cells": [
  {
   "cell_type": "code",
   "execution_count": 6,
   "metadata": {},
   "outputs": [],
   "source": [
    "# FUNZIONI MATEMATICHE\n",
    "\n",
    "import random\n",
    "import numpy as np\n",
    "import pandas as pd\n",
    "from matplotlib import pyplot as plt\n",
    "\n",
    "def pos(X):\n",
    "    '''\n",
    "    dato un array torna l'array dei massimi tra 0 e l'elemento\n",
    "    '''\n",
    "    return np.maximum(0,X)\n",
    "\n",
    "def pos_primo(X):\n",
    "    return X>0\n",
    "\n",
    "def prob(X):\n",
    "    '''\n",
    "    dato un array, mi ritorna un array di probabilità\n",
    "    '''\n",
    "    Y = np.exp(X) / sum(np.exp(X))\n",
    "    return Y\n",
    "\n",
    "def matrice_cifre(X):\n",
    "    '''\n",
    "    mi trasforma la risposta esatta in una matrice 10x1\n",
    "    dove ho 1 nell indice del numero\n",
    "    '''\n",
    "    Y = np.zeros((X.size, X.max() + 1))\n",
    "    Y[np.arange(X.size), X] = 1\n",
    "    Y = Y.T\n",
    "    return Y"
   ]
  },
  {
   "cell_type": "code",
   "execution_count": 7,
   "metadata": {},
   "outputs": [],
   "source": [
    "# DATI\n",
    "\n",
    "# useremo il database MNSIT delle cifre\n",
    "\n",
    "data = pd.read_csv('train.csv')\n",
    "data = np.array(data) #converto in array\n",
    "m, n = data.shape\n",
    "np.random.shuffle(data) # mettiamo in ordine casuale\n",
    "\n",
    "\n",
    "\n",
    "data_test = data[0:1000].T\n",
    "Y_test = data_test[0]\n",
    "X_test = data_test[1:n]\n",
    "X_test = X_test / 255.\n",
    "\n",
    "data_train = data[1000:m].T\n",
    "Y_train = data_train[0]\n",
    "X_train = data_train[1:n]\n",
    "X_train = X_train / 255."
   ]
  },
  {
   "cell_type": "code",
   "execution_count": 8,
   "metadata": {},
   "outputs": [],
   "source": [
    "# FUNZIONI PER LA RETE\n",
    "\n",
    "# le immagini sono 28x28 (quindi ho un input di dimensione 784)\n",
    "# sono in bianco e nero, numerizzate come 0 = bianco, 258 = nero\n",
    "\n",
    "def crea_parametri():\n",
    "    '''\n",
    "    crea casualmente pesi e soglie della rete\n",
    "    '''\n",
    "    W1 = np.random.rand(10, 784) - 0.5 #pesi dello strato hidden. -0.5 così i valori sono tra -0.5 e 0.5\n",
    "    theta1 = np.random.rand(10, 1) - 0.5 #soglie dello strato hidden\n",
    "    W2 = np.random.rand(10, 10) - 0.5 #pesi dello strato output\n",
    "    theta2 = np.random.rand(10, 1) - 0.5 #soglie dello strato output\n",
    "    return W1, theta1, W2, theta2\n",
    "\n",
    "\n",
    "def output_strati(W1, theta1, W2, theta2, X):\n",
    "    '''\n",
    "    date le matrice dei pesi e le soglie mi ritorna le matrici deli output di ciascuno strato\n",
    "    W1, W2 sono i pesi degli strati\n",
    "    thetha1, thetha2 sono le soglie degli strati\n",
    "    X è il vettore esempio\n",
    "    '''\n",
    "    Y1 = W1.dot(X) + theta1\n",
    "    A1 = pos(Y1)\n",
    "    Y2 = W2.dot(A1) + theta2\n",
    "    A2 = prob(Y2)\n",
    "    return Y1, A1, Y2, A2\n",
    "\n",
    "\n",
    "def back_propagation(Y1, A1, Y2, A2, W1, W2, X, Y):\n",
    "    '''\n",
    "    implementa l algoritmo di back-propagation, mi ritorna le variazioni\n",
    "    Y1, Y2 sono gli output degli strati\n",
    "    A1, A2 sono gli output modificati (uno con pos, l altro con prob) degli strati\n",
    "    W1, W2 sono le matrici dei pesi degli strati\n",
    "    X è il vettore di input\n",
    "    Y è il vettore di output desiderato\n",
    "    '''\n",
    "    m = X.shape[1] #dimensione dell'input\n",
    "    Y_mat = matrice_cifre(Y) #mi serve un vettore 10x1 a valori in {0,1}\n",
    "    dY2 = A2- Y_mat\n",
    "    dW2 = 1 / m * dY2.dot(A1.T)\n",
    "    dtheta2 = 1 / m * np.sum(dY2)\n",
    "    dY1 = W2.T.dot(dY2) * pos_primo(Y1)\n",
    "    dW1 = 1 / m * dY1.dot(X.T)\n",
    "    dtheta1 = 1 / m * np.sum(dY1)\n",
    "    return dW1, dtheta1, dW2, dtheta2\n",
    "\n",
    "\n",
    "def agg_parametri(W1, theta1, W2, theta2, dW1, dtheta1, dW2, dtheta2, epsilon):\n",
    "    W1 = W1 - epsilon * dW1\n",
    "    theta1 = theta1 - epsilon * dtheta1\n",
    "    W2 = W2 - epsilon * dW2\n",
    "    theta2 = theta2 - epsilon * dtheta2\n",
    "    return W1, theta1, W2, theta2\n",
    "\n",
    "\n",
    "def get_precisione(X, Y):\n",
    "    return np.sum(X == Y) / Y.size\n",
    "\n",
    "\n",
    "def rete(X, Y, iterazioni=500, epsilon=0.1, stampa=False):\n",
    "    '''\n",
    "    dati un insieme di esempi e uno di risposte, crea una rete neurale (ovvero 4 array)\n",
    "    iterazioni è il numero di volte che gira l algoritmo\n",
    "    epsilon è il coefficiente di aggiornamento dei pesi\n",
    "    stampa fa si che ogni 10 iterazioni ricevo \n",
    "    '''\n",
    "    W1, theta1, W2, theta2 = crea_parametri() #inizio con valori casuali\n",
    "    for i in range(iterazioni): # aggiorno i parametri\n",
    "        Y1, A1, Y2, A2 = output_strati(W1, theta1, W2, theta2, X)\n",
    "        dW1, dtheta1, dW2, dtheta2 = back_propagation(Y1, A1, Y2, A2, W1, W2, X, Y)\n",
    "        W1, theta1, W2, theta2 = agg_parametri(W1, theta1, W2, theta2, dW1, dtheta1, dW2, dtheta2, epsilon)\n",
    "        if stampa and i%10 == 0:\n",
    "            print(\"iterazione numero: \" + str(i))\n",
    "            print(\"precisione: \" + str(get_precisione(np.argmax(A2, 0), Y)))\n",
    "    return W1, theta1, W2, theta2"
   ]
  },
  {
   "cell_type": "code",
   "execution_count": 9,
   "metadata": {},
   "outputs": [],
   "source": [
    "# FUNZIONI DI UTILIZZO\n",
    "\n",
    "def get_risposta(W1, theta1, W2, theta2, X):\n",
    "    '''\n",
    "    Data una rete composta da W1, theta1, W2, theta2, e un esempio X, la rete dà l'output\n",
    "    '''\n",
    "    Y1, A1, Y2, A2 = output_strati(W1, theta1, W2, theta2, X)\n",
    "    risultato = np.argmax(A2, 0) # mi torna l'indice della probabilità più alta\n",
    "    return risultato\n",
    "\n",
    "def utilizza_rete(X_test, Y_test, indice, W1, theta1, W2, theta2):\n",
    "    '''\n",
    "    dato un insieme di esempi con risposta, un indice, e la rete\n",
    "    stampa l'immagine del suddetto indice, indicandone la risposta corretta e la risposta della rete.\n",
    "    '''\n",
    "    risultato = get_risposta(W1, theta1, W2, theta2, X_test[:, indice, None])\n",
    "    risultato_esatto = Y_test[indice]\n",
    "    #mostro l'immagine\n",
    "    immagine = X_test[:, indice, None]\n",
    "    immagine = immagine.reshape((28,28)) * 255\n",
    "    plt.gray()\n",
    "    plt.imshow(immagine, interpolation='nearest')\n",
    "    plt.show()\n",
    "    #dico l'output della rete e quello desiderato\n",
    "    print(\"la risposta corretta è: \" + str(risultato_esatto))\n",
    "    print(\"secondo la mia rete la risposta è: \" + str(risultato))\n",
    "    print(\"\\n\")"
   ]
  },
  {
   "cell_type": "markdown",
   "metadata": {},
   "source": [
    "# Rete Feed Forward\n",
    "\n",
    "Questo codice è in grado di generare una rete neurale che implementando l'algoritmo di back propagation è in grado di riconoscere le cifre scritte a mano\n",
    "\n",
    "## Caratteristiche\n",
    "\n",
    "La rete è composta da due strati.\n",
    "Abbiamo un input di dimensione 28x28=784 che rappresenta i pixel delle immagini.\n",
    "Lo strato hidden è composto da 10 neuroni, ogn'uno con 784 pesi (matrice $W1$, 10x784), e una matrice $\\theta1$ 10x1 che rappresenta le soglie.\n",
    "In particolare non ho un'unico neurone che da output bensì ne ho 10, ciascuno con 10 pesi (matrice $W2$, 10x10) e le soglie (matrice $\\theta2$, 10x1).\n",
    "Di conseguenza l'output è un vettore. Tale vettore è un vettore di probabilità che la rete attribuisce all'input di essere una delle 10 cifre\n",
    "\n",
    "### Costruzione\n",
    "\n",
    "Creiamo la rete neurale, che è interamente contenuta nei pesi e nelle soglie dei suoi due strati, fornendole:\n",
    "- un insieme di esempi ($X \\, train$) muniti di risposte ($Y \\, train$)\n",
    "- *opz.* il numero di passi da compiere (<ins>oss.</ins> la rete non ha altri criteri di stop)\n",
    "- *opz.* il valore del coefficiente $\\epsilon$ per la discesa lungo il gradiente\n",
    "- *opz.* se vogliamo stampare la precisione durante l'apprendimento diamo il valore **True**, altrimenti **False**\n",
    "\n",
    "La rete non è un oggetto in se, bensì sono 4 matrici, o meglio 4 array."
   ]
  },
  {
   "cell_type": "code",
   "execution_count": 12,
   "metadata": {},
   "outputs": [
    {
     "name": "stdout",
     "output_type": "stream",
     "text": [
      "iterazione numero: 0\n",
      "precisione: 0.10992682926829268\n",
      "iterazione numero: 10\n",
      "precisione: 0.14441463414634145\n",
      "iterazione numero: 20\n",
      "precisione: 0.17090243902439026\n",
      "iterazione numero: 30\n",
      "precisione: 0.2070731707317073\n",
      "iterazione numero: 40\n",
      "precisione: 0.2665365853658537\n",
      "iterazione numero: 50\n",
      "precisione: 0.3773658536585366\n",
      "iterazione numero: 60\n",
      "precisione: 0.45207317073170733\n",
      "iterazione numero: 70\n",
      "precisione: 0.5103414634146342\n",
      "iterazione numero: 80\n",
      "precisione: 0.5621219512195123\n",
      "iterazione numero: 90\n",
      "precisione: 0.6020487804878049\n",
      "iterazione numero: 100\n",
      "precisione: 0.6324390243902439\n",
      "iterazione numero: 110\n",
      "precisione: 0.658219512195122\n",
      "iterazione numero: 120\n",
      "precisione: 0.6794146341463415\n",
      "iterazione numero: 130\n",
      "precisione: 0.697390243902439\n",
      "iterazione numero: 140\n",
      "precisione: 0.7121951219512195\n",
      "iterazione numero: 150\n",
      "precisione: 0.7258780487804878\n",
      "iterazione numero: 160\n",
      "precisione: 0.7365365853658536\n",
      "iterazione numero: 170\n",
      "precisione: 0.7471707317073171\n",
      "iterazione numero: 180\n",
      "precisione: 0.7571707317073171\n",
      "iterazione numero: 190\n",
      "precisione: 0.7650243902439025\n"
     ]
    }
   ],
   "source": [
    "W1, theta1, W2, theta2 = rete(X_train, Y_train, 200, 0.1, True)"
   ]
  },
  {
   "cell_type": "markdown",
   "metadata": {},
   "source": [
    "### Utilizzo\n",
    "\n",
    "Forniamo alla rete alcuni esempi, e vediamo che risposta ci dà"
   ]
  },
  {
   "cell_type": "code",
   "execution_count": 15,
   "metadata": {},
   "outputs": [
    {
     "data": {
      "image/png": "[encoded data removed]",
      "text/plain": [
       "<Figure size 432x288 with 1 Axes>"
      ]
     },
     "metadata": {
      "needs_background": "light"
     },
     "output_type": "display_data"
    },
    {
     "name": "stdout",
     "output_type": "stream",
     "text": [
      "la risposta corretta è: 5\n",
      "secondo la mia rete la risposta è: [5]\n",
      "\n",
      "\n"
     ]
    },
    {
     "data": {
      "image/png": "[encoded data removed]",
      "text/plain": [
       "<Figure size 432x288 with 1 Axes>"
      ]
     },
     "metadata": {
      "needs_background": "light"
     },
     "output_type": "display_data"
    },
    {
     "name": "stdout",
     "output_type": "stream",
     "text": [
      "la risposta corretta è: 3\n",
      "secondo la mia rete la risposta è: [3]\n",
      "\n",
      "\n"
     ]
    },
    {
     "data": {
      "image/png": "[encoded data removed]",
      "text/plain": [
       "<Figure size 432x288 with 1 Axes>"
      ]
     },
     "metadata": {
      "needs_background": "light"
     },
     "output_type": "display_data"
    },
    {
     "name": "stdout",
     "output_type": "stream",
     "text": [
      "la risposta corretta è: 9\n",
      "secondo la mia rete la risposta è: [9]\n",
      "\n",
      "\n"
     ]
    },
    {
     "data": {
      "image/png": "[encoded data removed]",
      "text/plain": [
       "<Figure size 432x288 with 1 Axes>"
      ]
     },
     "metadata": {
      "needs_background": "light"
     },
     "output_type": "display_data"
    },
    {
     "name": "stdout",
     "output_type": "stream",
     "text": [
      "la risposta corretta è: 7\n",
      "secondo la mia rete la risposta è: [7]\n",
      "\n",
      "\n"
     ]
    },
    {
     "data": {
      "image/png": "[encoded data removed]",
      "text/plain": [
       "<Figure size 432x288 with 1 Axes>"
      ]
     },
     "metadata": {
      "needs_background": "light"
     },
     "output_type": "display_data"
    },
    {
     "name": "stdout",
     "output_type": "stream",
     "text": [
      "la risposta corretta è: 5\n",
      "secondo la mia rete la risposta è: [5]\n",
      "\n",
      "\n"
     ]
    }
   ],
   "source": [
    "for i in range(5):\n",
    "    num = random.randint(1, 1000)\n",
    "    utilizza_rete(X_test, Y_test, num, W1, theta1, W2, theta2)"
   ]
  },
  {
   "cell_type": "markdown",
   "metadata": {},
   "source": [
    "#### Bibliografia\n",
    "\n",
    "- Introduzione alla Teoria delle Reti Neurali, Marco Budinich\n",
    "- [Deep Learning (Part 1) - Feedforward neural networks (FNN)](https://training.galaxyproject.org/training-material/topics/statistics/tutorials/FNN/tutorial.html), Kaivan Kamali"
   ]
  },
  {
   "cell_type": "code",
   "execution_count": null,
   "metadata": {},
   "outputs": [],
   "source": []
  }
 ],
 "metadata": {
  "kernelspec": {
   "display_name": "Python 3 (ipykernel)",
   "language": "python",
   "name": "python3"
  },
  "language_info": {
   "codemirror_mode": {
    "name": "ipython",
    "version": 3
   },
   "file_extension": ".py",
   "mimetype": "text/x-python",
   "name": "python",
   "nbconvert_exporter": "python",
   "pygments_lexer": "ipython3",
   "version": "3.11.0"
  }
 },
 "nbformat": 4,
 "nbformat_minor": 4
}
