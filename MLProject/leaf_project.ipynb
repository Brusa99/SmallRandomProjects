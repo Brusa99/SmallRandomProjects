{
 "cells": [
  {
   "cell_type": "code",
   "execution_count": 1,
   "id": "73f2eed2-7d36-4795-8781-72cadadb0c9f",
   "metadata": {},
   "outputs": [],
   "source": [
    "# general imports\n",
    "\n",
    "import numpy as np\n",
    "import pandas as pd\n",
    "import time\n",
    "\n",
    "from sklearn.metrics import balanced_accuracy_score\n",
    "from sklearn.model_selection import GridSearchCV\n",
    "from sklearn.model_selection import KFold\n",
    "\n",
    "# models\n",
    "from sklearn.tree import DecisionTreeClassifier\n",
    "from sklearn.ensemble import RandomForestClassifier\n",
    "from sklearn.svm import SVC\n",
    "from sklearn.svm import LinearSVC\n",
    "from sklearn.pipeline import Pipeline\n",
    "from sklearn.preprocessing import StandardScaler\n",
    "from sklearn.neighbors import KNeighborsClassifier\n",
    "from sklearn.neighbors import DistanceMetric\n",
    "\n",
    "# note that some models shuffle the learning data, so results may differ because I didn't know it and didn't set the seed\n",
    "np.random.seed(314) #doesnt work\n",
    "\n",
    "# disable warnings\n",
    "def warn(*args, **kwargs):\n",
    "    pass\n",
    "import warnings\n",
    "warnings.warn = warn"
   ]
  },
  {
   "cell_type": "markdown",
   "id": "f3937f5f-ec8f-418e-9f68-88d17b5d0686",
   "metadata": {},
   "source": [
    "# Data\n",
    "\n",
    "Data is provided [here](https://archive.ics.uci.edu/ml/machine-learning-databases/00288/) along with a `readme` with data descrption.\n",
    "\n",
    "## Data Pre-Processing\n",
    "\n",
    "The dataset is already fine as it is, we can insert column names and remove the _Specimen Number_ as we don't need it.  \n",
    "\n",
    "Since The data is presented grouped by _Species_, we can also shuffle the dataset (this is necessary later when we take folds of the dataset)"
   ]
  },
  {
   "cell_type": "code",
   "execution_count": 2,
   "id": "bf9df38f-1862-4e96-b368-8ae1547b58f2",
   "metadata": {},
   "outputs": [],
   "source": [
    "# load the data\n",
    "ds = pd.read_csv(\"/home/brusa/Scratch/leaf.csv\", header=None)\n",
    "\n",
    "# column names\n",
    "header = ['Species','Specimen Number', 'Eccentricity','Aspect Ratio','Elongation','Solidity','Stochastic Convexity','Isoperimetric Factor','Maximal Indentation Depth','Lobedness','Average Intensity','Average Contrast','Smoothness','Third moment','Uniformity','Entropy']\n",
    "ds.columns = header\n",
    "\n",
    "# remove specimen number\n",
    "ds.pop('Specimen Number')\n",
    "\n",
    "# shuffle the dataset\n",
    "from sklearn.utils import shuffle\n",
    "ds = shuffle(ds, random_state=1)"
   ]
  },
  {
   "cell_type": "markdown",
   "id": "6faa29d3-c069-4056-b778-2d54e5868f35",
   "metadata": {},
   "source": [
    "# Problem Statement\n",
    "\n",
    "_Identify leaf species based on leaf attributes_\n",
    "\n",
    "Formally we are searching for an $f$ such that:\n",
    "$$ f : \\mathbb{R}^{14} \\rightarrow \\{ \\text{species}_i | i=1, \\dots, 30 \\} $$  \n",
    "So we need to classify leaves based on 14 numerical attributes in one of the 30 possible leaf species. It's a multiclass classification problem."
   ]
  },
  {
   "cell_type": "code",
   "execution_count": 35,
   "id": "14f05b48-c5c1-418b-97bc-9e728d4e6560",
   "metadata": {},
   "outputs": [
    {
     "name": "stdout",
     "output_type": "stream",
     "text": [
      "|Y| = 30\n",
      "min = 8\n",
      "max = 16\n"
     ]
    }
   ],
   "source": [
    "# we have 30 different species  in the dataset\n",
    "print(\"|Y| =\",len(set(ds.Species)))\n",
    "\n",
    "#observation count min max\n",
    "print(\"min =\", min(ds.value_counts('Species')))\n",
    "print(\"max =\", max(ds.value_counts('Species')))"
   ]
  },
  {
   "cell_type": "markdown",
   "id": "678cadb2-114f-4ab0-82de-5ca2d0ee1757",
   "metadata": {},
   "source": [
    "## Single Tree\n",
    "\n",
    "bla lba"
   ]
  },
  {
   "cell_type": "code",
   "execution_count": 45,
   "id": "a83c7ba3-714f-4c90-b487-d5c97e56f898",
   "metadata": {},
   "outputs": [
    {
     "name": "stdout",
     "output_type": "stream",
     "text": [
      "tree:  {'criterion': 'gini', 'min_samples_leaf': 1}  wacc = 0.6166091954022989\n",
      "tree:  {'criterion': 'gini', 'min_samples_leaf': 1}  wacc = 0.6166091954022989\n",
      "tree:  {'criterion': 'gini', 'min_samples_leaf': 1}  wacc = 0.6166091954022989\n",
      "tree:  {'criterion': 'gini', 'min_samples_leaf': 1}  wacc = 0.6166091954022989\n",
      "tree:  {'criterion': 'gini', 'min_samples_leaf': 1}  wacc = 0.6166091954022989\n",
      "tree:  {'criterion': 'gini', 'min_samples_leaf': 1}  wacc = 0.6166091954022989\n",
      "tree:  {'criterion': 'gini', 'min_samples_leaf': 1}  wacc = 0.6166091954022989\n",
      "tree:  {'criterion': 'gini', 'min_samples_leaf': 1}  wacc = 0.6166091954022989\n",
      "1.66 s ± 30.7 ms per loop (mean ± std. dev. of 7 runs, 1 loop each)\n"
     ]
    }
   ],
   "source": [
    "%%timeit\n",
    "\n",
    "param_grid = {\"criterion\":['gini', 'entropy'],\n",
    "             \"min_samples_leaf\" : [1,2,3,4,5], }\n",
    "\n",
    "m = GridSearchCV(estimator= DecisionTreeClassifier(random_state=1), param_grid= param_grid, scoring= \"balanced_accuracy\", cv=10, refit=True)\n",
    "m.fit(ds.drop('Species', axis=1), ds.Species)\n",
    "\n",
    "print(\"tree: \",m.best_params_, \" wacc =\", m.best_score_ )"
   ]
  },
  {
   "cell_type": "markdown",
   "id": "a7503f90-5783-424e-aada-6c6b30ef8e67",
   "metadata": {},
   "source": [
    "## Random Forest\n",
    "\n",
    "For our first resolution we will use the _Random Forest_ technique. It is a supervised learning technique.    \n",
    "Altough RF has two parameters $n_\\text{trees}, n_\\text{vars}$, it can be considered as an hyperparameter free learning technique, as it can be proven that the best parameters are $ n_\\text{trees} = 500, n_\\text{vars} = \\sqrt{p}$ (for classification).\n"
   ]
  },
  {
   "cell_type": "code",
   "execution_count": 37,
   "id": "f7eaa682-48b9-402a-9eaa-9776a1e326ef",
   "metadata": {},
   "outputs": [
    {
     "name": "stdout",
     "output_type": "stream",
     "text": [
      "0.75 0.042111238421401014 0.7581206639787875 0.032184584484595206\n"
     ]
    }
   ],
   "source": [
    "#manual CV to see if it matches\n",
    "\n",
    "k = 10\n",
    "kf = KFold(n_splits=k)\n",
    "\n",
    "# to store all scores\n",
    "ACCs = []\n",
    "WACCs = []\n",
    "\n",
    "fold = kf.split(ds) # gives an iterator object\n",
    "\n",
    "for n_fold in range(k):\n",
    "    \n",
    "    # get the train/test datasets\n",
    "    result = next(fold)\n",
    "    \n",
    "    learn = ds.iloc[result[0]]\n",
    "    test = ds.iloc[result[1]]\n",
    "    \n",
    "    # create model\n",
    "    m = RandomForestClassifier(n_estimators= 500, min_samples_leaf= 1, max_features=\"sqrt\")\n",
    "    \n",
    "    # fit model\n",
    "    m.fit(learn.drop('Species', axis=1), learn.Species)\n",
    "    \n",
    "    # get ACC and WACC\n",
    "    ACCs.append(m.score(test.drop('Species', axis=1), test.Species))\n",
    "    WACCs.append(balanced_accuracy_score(test.Species, m.predict(test.drop('Species', axis=1))))\n",
    "\n",
    "# save\n",
    "print(np.mean(ACCs), np.std(ACCs),np.mean(WACCs),np.std(WACCs))"
   ]
  },
  {
   "cell_type": "code",
   "execution_count": 38,
   "id": "7ec6214c-a449-4b90-a497-3ec608a99c1b",
   "metadata": {},
   "outputs": [
    {
     "name": "stdout",
     "output_type": "stream",
     "text": [
      "RF:  {'n_estimators': 500}  wacc = 0.7902504105090311\n",
      "RF:  {'n_estimators': 500}  wacc = 0.7853694581280787\n",
      "RF:  {'n_estimators': 500}  wacc = 0.7751354679802955\n",
      "RF:  {'n_estimators': 500}  wacc = 0.7904802955665025\n",
      "RF:  {'n_estimators': 500}  wacc = 0.7886412151067324\n",
      "RF:  {'n_estimators': 500}  wacc = 0.8004802955665026\n",
      "RF:  {'n_estimators': 500}  wacc = 0.7972085385878489\n",
      "RF:  {'n_estimators': 500}  wacc = 0.7885262725779966\n",
      "16.8 s ± 334 ms per loop (mean ± std. dev. of 7 runs, 1 loop each)\n"
     ]
    }
   ],
   "source": [
    "%%timeit\n",
    "\n",
    "m = GridSearchCV(estimator= RandomForestClassifier(), param_grid= {\"n_estimators\":[500]}, scoring= \"balanced_accuracy\", cv=10, refit=True)\n",
    "m.fit(ds.drop('Species', axis=1), ds.Species)\n",
    "\n",
    "print(\"RF: \",m.best_params_, \" wacc =\", m.best_score_ )"
   ]
  },
  {
   "cell_type": "markdown",
   "id": "bac56757-f887-4597-bcb3-80830ecafcbd",
   "metadata": {},
   "source": [
    "## Suport Vector Machines\n",
    "\n",
    "For our second resolution we will use the _SVM_ technique. It is a supervised learning technique.  \n",
    "We use the generalized versions of the _SVM_, which supports multiclass classification using the **one versus one**  approach.  \n",
    "\n",
    "The technique itself has just one parameter: the _cost_ $c$, but we can also choose to use a _kernel function_, for which we have various options.  \n",
    "\n",
    "It is also recomended to scale the data."
   ]
  },
  {
   "cell_type": "code",
   "execution_count": 39,
   "id": "7fba91cf-682f-40e3-aa1f-99d450c224dc",
   "metadata": {},
   "outputs": [
    {
     "name": "stdout",
     "output_type": "stream",
     "text": [
      "linear: {'svm__C': 5}  wacc = 0.8442857142857143\n",
      "linear: {'svm__C': 5}  wacc = 0.8442857142857143\n",
      "linear: {'svm__C': 5}  wacc = 0.8442857142857143\n",
      "linear: {'svm__C': 5}  wacc = 0.8442857142857143\n",
      "linear: {'svm__C': 5}  wacc = 0.8442857142857143\n",
      "linear: {'svm__C': 5}  wacc = 0.8442857142857143\n",
      "linear: {'svm__C': 5}  wacc = 0.8442857142857143\n",
      "linear: {'svm__C': 5}  wacc = 0.8442857142857143\n",
      "8.86 s ± 282 ms per loop (mean ± std. dev. of 7 runs, 1 loop each)\n"
     ]
    }
   ],
   "source": [
    "%%timeit\n",
    "\n",
    "## Linear\n",
    "\n",
    "# create pipelined model\n",
    "m1 = Pipeline([\n",
    "    (\"scaler\", StandardScaler()),\n",
    "    (\"svm\", LinearSVC()),\n",
    "])\n",
    "\n",
    "param_grid1 = {'svm__C': (0.1, 0.5, 1, 5, 10, 50, 100, 250, 500, 750, 1000),}\n",
    "\n",
    "model1 = GridSearchCV(estimator= m1, param_grid= param_grid1, scoring= \"balanced_accuracy\", cv=10, refit=True)\n",
    "model1.fit(ds.drop('Species', axis=1), ds.Species)\n",
    "\n",
    "print(\"linear:\",model1.best_params_, \" wacc =\", model1.best_score_ )\n",
    "\n",
    "# create pipelined model\n",
    "m2 = Pipeline([\n",
    "    (\"scaler\", StandardScaler()),\n",
    "    (\"svm\", SVC()),\n",
    "])"
   ]
  },
  {
   "cell_type": "code",
   "execution_count": 40,
   "id": "829a2136-409e-4fca-860e-286e338178cb",
   "metadata": {},
   "outputs": [
    {
     "name": "stdout",
     "output_type": "stream",
     "text": [
      "polynomial:  {'svm__C': 50, 'svm__degree': 2, 'svm__kernel': 'poly'}  wacc = 0.7600779967159277\n",
      "polynomial:  {'svm__C': 50, 'svm__degree': 2, 'svm__kernel': 'poly'}  wacc = 0.7600779967159277\n",
      "polynomial:  {'svm__C': 50, 'svm__degree': 2, 'svm__kernel': 'poly'}  wacc = 0.7600779967159277\n",
      "polynomial:  {'svm__C': 50, 'svm__degree': 2, 'svm__kernel': 'poly'}  wacc = 0.7600779967159277\n",
      "polynomial:  {'svm__C': 50, 'svm__degree': 2, 'svm__kernel': 'poly'}  wacc = 0.7600779967159277\n",
      "polynomial:  {'svm__C': 50, 'svm__degree': 2, 'svm__kernel': 'poly'}  wacc = 0.7600779967159277\n",
      "polynomial:  {'svm__C': 50, 'svm__degree': 2, 'svm__kernel': 'poly'}  wacc = 0.7600779967159277\n",
      "polynomial:  {'svm__C': 50, 'svm__degree': 2, 'svm__kernel': 'poly'}  wacc = 0.7600779967159277\n",
      "17.7 s ± 498 ms per loop (mean ± std. dev. of 7 runs, 1 loop each)\n"
     ]
    }
   ],
   "source": [
    "%%timeit\n",
    "\n",
    "## poly\n",
    "\n",
    "# create pipelined model\n",
    "m3 = Pipeline([\n",
    "    (\"scaler\", StandardScaler()),\n",
    "    (\"svm\", SVC()),\n",
    "])\n",
    "\n",
    "param_grid3 = {'svm__C': (0.1, 0.5, 1, 5, 10, 50, 100, 250, 500, 750, 1000),\n",
    "              'svm__kernel' : ['poly'],\n",
    "              'svm__degree' : (2, 3, 4, 5, 6, 7, 8),}\n",
    "\n",
    "model3 = GridSearchCV(estimator= m3, param_grid= param_grid3, scoring= \"balanced_accuracy\", cv=10, refit=True)\n",
    "model3.fit(ds.drop('Species', axis=1), ds.Species)\n",
    "\n",
    "print(\"polynomial: \",model3.best_params_, \" wacc =\", model3.best_score_ )"
   ]
  },
  {
   "cell_type": "code",
   "execution_count": 41,
   "id": "39368168-9f2b-43c8-94e0-09d74083ea7e",
   "metadata": {},
   "outputs": [
    {
     "name": "stdout",
     "output_type": "stream",
     "text": [
      "gaussian:  {'svm__C': 1000, 'svm__gamma': 0.01, 'svm__kernel': 'rbf'}  wacc = 0.7822742200328408\n",
      "gaussian:  {'svm__C': 1000, 'svm__gamma': 0.01, 'svm__kernel': 'rbf'}  wacc = 0.7822742200328408\n",
      "gaussian:  {'svm__C': 1000, 'svm__gamma': 0.01, 'svm__kernel': 'rbf'}  wacc = 0.7822742200328408\n",
      "gaussian:  {'svm__C': 1000, 'svm__gamma': 0.01, 'svm__kernel': 'rbf'}  wacc = 0.7822742200328408\n",
      "gaussian:  {'svm__C': 1000, 'svm__gamma': 0.01, 'svm__kernel': 'rbf'}  wacc = 0.7822742200328408\n",
      "gaussian:  {'svm__C': 1000, 'svm__gamma': 0.01, 'svm__kernel': 'rbf'}  wacc = 0.7822742200328408\n",
      "gaussian:  {'svm__C': 1000, 'svm__gamma': 0.01, 'svm__kernel': 'rbf'}  wacc = 0.7822742200328408\n",
      "gaussian:  {'svm__C': 1000, 'svm__gamma': 0.01, 'svm__kernel': 'rbf'}  wacc = 0.7822742200328408\n",
      "8.41 s ± 163 ms per loop (mean ± std. dev. of 7 runs, 1 loop each)\n"
     ]
    }
   ],
   "source": [
    "%%timeit\n",
    "\n",
    "## Gaussian\n",
    "\n",
    "# create pipelined model\n",
    "m2 = Pipeline([\n",
    "    (\"scaler\", StandardScaler()),\n",
    "    (\"svm\", SVC()),\n",
    "])\n",
    "\n",
    "param_grid2 = {'svm__C': (0.1, 0.5, 1, 5, 10, 50, 100, 250, 500, 750, 1000),\n",
    "              'svm__kernel' : ['rbf'],\n",
    "              'svm__gamma' : (0.01, 0.001, 0.0001),}\n",
    "\n",
    "model2 = GridSearchCV(estimator= m2, param_grid= param_grid2, scoring= \"balanced_accuracy\", cv=10, refit=True)\n",
    "model2.fit(ds.drop('Species', axis=1), ds.Species)\n",
    "\n",
    "print(\"gaussian: \",model2.best_params_, \" wacc =\", model2.best_score_ )"
   ]
  },
  {
   "cell_type": "markdown",
   "id": "575d0274-8edd-4484-8cb3-d9ef5501e564",
   "metadata": {
    "tags": []
   },
   "source": [
    "## K-Nearest Neighbours\n",
    "\n",
    "bla bla bla"
   ]
  },
  {
   "cell_type": "code",
   "execution_count": 42,
   "id": "40ecc15c-0b4a-4b03-a201-84c72471b884",
   "metadata": {},
   "outputs": [
    {
     "name": "stdout",
     "output_type": "stream",
     "text": [
      "knn:  {'metric': 'manhattan', 'n_neighbors': 1}  wacc = 0.6516707717569786\n",
      "knn:  {'metric': 'manhattan', 'n_neighbors': 1}  wacc = 0.6516707717569786\n",
      "knn:  {'metric': 'manhattan', 'n_neighbors': 1}  wacc = 0.6516707717569786\n",
      "knn:  {'metric': 'manhattan', 'n_neighbors': 1}  wacc = 0.6516707717569786\n",
      "knn:  {'metric': 'manhattan', 'n_neighbors': 1}  wacc = 0.6516707717569786\n",
      "knn:  {'metric': 'manhattan', 'n_neighbors': 1}  wacc = 0.6516707717569786\n",
      "knn:  {'metric': 'manhattan', 'n_neighbors': 1}  wacc = 0.6516707717569786\n",
      "knn:  {'metric': 'manhattan', 'n_neighbors': 1}  wacc = 0.6516707717569786\n",
      "5.15 s ± 107 ms per loop (mean ± std. dev. of 7 runs, 1 loop each)\n"
     ]
    }
   ],
   "source": [
    "%%timeit\n",
    "\n",
    "param_grid = {'n_neighbors': np.arange(1,30),\n",
    "             'metric': ['euclidean', 'manhattan'],}\n",
    "\n",
    "m = GridSearchCV(estimator= KNeighborsClassifier(), param_grid= param_grid, scoring= \"balanced_accuracy\", cv=10, refit=True)\n",
    "m.fit(ds.drop('Species', axis=1), ds.Species)\n",
    "\n",
    "print(\"knn: \",m.best_params_, \" wacc =\", m.best_score_ )"
   ]
  },
  {
   "cell_type": "markdown",
   "id": "d8e9d0bd-408c-4e6b-be5a-f84a64f61f6c",
   "metadata": {},
   "source": [
    "# All Out Comparison"
   ]
  },
  {
   "cell_type": "code",
   "execution_count": 48,
   "id": "70c73ade-15f9-4cea-bd23-146c09a1cfed",
   "metadata": {},
   "outputs": [],
   "source": [
    "models_labels = ['Tree','Random Forest','Linear SVM', 'Polynomial SVM', 'Gaussian SVM', 'kNN']\n",
    "models=[DecisionTreeClassifier(criterion='gini', min_samples_leaf=1),\n",
    "        RandomForestClassifier(n_estimators= 500, min_samples_leaf= 1, max_features=\"sqrt\"),\n",
    "        Pipeline([(\"scaler\", StandardScaler()),(\"svm\", LinearSVC(C=5)),]),\n",
    "        Pipeline([(\"scaler\", StandardScaler()),(\"svm\", SVC(C=50, degree=2, kernel='poly')),]),\n",
    "        Pipeline([(\"scaler\", StandardScaler()),(\"svm\", SVC(C=1000, gamma=0.01, kernel='rbf')),]),\n",
    "        KNeighborsClassifier(metric='manhattan', n_neighbors=1),\n",
    "       ]\n",
    "ACCs = []\n",
    "ACCs_sd = []\n",
    "wACCs = [] \n",
    "wACCs_sd = []\n",
    "times=[]\n",
    "\n",
    "\n",
    "# cross fold iterator\n",
    "k = 10\n",
    "kf = KFold(n_splits=k)\n",
    "\n",
    "for i in range(len(models)):\n",
    "    # to store all scores\n",
    "    mACCs = []\n",
    "    mWACCs = []\n",
    "    mtimes = []\n",
    "\n",
    "    fold = kf.split(ds) # gives an iterator object\n",
    "    \n",
    "    for n_fold in range(k):\n",
    "        # get the train/test datasets\n",
    "        result = next(fold)\n",
    "\n",
    "        learn = ds.iloc[result[0]]\n",
    "        test = ds.iloc[result[1]]\n",
    "        \n",
    "        #to make sure that it is working with the same learn\\test\n",
    "        #print(result[1])\n",
    "\n",
    "        # fit model\n",
    "        start = time.time()\n",
    "        models[i].fit(learn.drop('Species', axis=1), learn.Species)\n",
    "        end = time.time()\n",
    "        \n",
    "        mtimes.append(end-start)\n",
    "\n",
    "        # get ACC and WACC\n",
    "        mACCs.append(models[i].score(test.drop('Species', axis=1), test.Species))\n",
    "        mWACCs.append(balanced_accuracy_score(test.Species, models[i].predict(test.drop('Species', axis=1))))\n",
    "    \n",
    "    ACCs.append(np.mean(mACCs))\n",
    "    wACCs.append(np.mean(mWACCs))\n",
    "    ACCs_sd.append(np.std(mACCs))\n",
    "    wACCs_sd.append(np.std(mWACCs))\n",
    "    times.append(np.mean(mtimes))\n",
    "    #print(\"---------------------------------------------\")"
   ]
  },
  {
   "cell_type": "code",
   "execution_count": 49,
   "id": "2a84fe73-c411-4da3-addd-b4d5b1201ece",
   "metadata": {},
   "outputs": [
    {
     "data": {
      "text/html": [
       "<div>\n",
       "<style scoped>\n",
       "    .dataframe tbody tr th:only-of-type {\n",
       "        vertical-align: middle;\n",
       "    }\n",
       "\n",
       "    .dataframe tbody tr th {\n",
       "        vertical-align: top;\n",
       "    }\n",
       "\n",
       "    .dataframe thead th {\n",
       "        text-align: right;\n",
       "    }\n",
       "</style>\n",
       "<table border=\"1\" class=\"dataframe\">\n",
       "  <thead>\n",
       "    <tr style=\"text-align: right;\">\n",
       "      <th></th>\n",
       "      <th>Accuracy Mean</th>\n",
       "      <th>Accuracy SD</th>\n",
       "      <th>W. Accuracy Mean</th>\n",
       "      <th>W. Accuracy SD</th>\n",
       "    </tr>\n",
       "  </thead>\n",
       "  <tbody>\n",
       "    <tr>\n",
       "      <th>Tree</th>\n",
       "      <td>62.94%</td>\n",
       "      <td>7.23%</td>\n",
       "      <td>62.29%</td>\n",
       "      <td>6.13%</td>\n",
       "    </tr>\n",
       "    <tr>\n",
       "      <th>Random Forest</th>\n",
       "      <td>76.76%</td>\n",
       "      <td>4.25%</td>\n",
       "      <td>77.37%</td>\n",
       "      <td>3.38%</td>\n",
       "    </tr>\n",
       "    <tr>\n",
       "      <th>Linear SVM</th>\n",
       "      <td>84.71%</td>\n",
       "      <td>6.14%</td>\n",
       "      <td>86.08%</td>\n",
       "      <td>6.29%</td>\n",
       "    </tr>\n",
       "    <tr>\n",
       "      <th>Polynomial SVM</th>\n",
       "      <td>73.24%</td>\n",
       "      <td>5.49%</td>\n",
       "      <td>74.94%</td>\n",
       "      <td>6.14%</td>\n",
       "    </tr>\n",
       "    <tr>\n",
       "      <th>Gaussian SVM</th>\n",
       "      <td>77.65%</td>\n",
       "      <td>4.40%</td>\n",
       "      <td>78.66%</td>\n",
       "      <td>3.98%</td>\n",
       "    </tr>\n",
       "    <tr>\n",
       "      <th>kNN</th>\n",
       "      <td>62.35%</td>\n",
       "      <td>6.94%</td>\n",
       "      <td>62.62%</td>\n",
       "      <td>7.60%</td>\n",
       "    </tr>\n",
       "  </tbody>\n",
       "</table>\n",
       "</div>"
      ],
      "text/plain": [
       "                Accuracy Mean  Accuracy SD  W. Accuracy Mean  W. Accuracy SD\n",
       "Tree                   62.94%        7.23%            62.29%           6.13%\n",
       "Random Forest          76.76%        4.25%            77.37%           3.38%\n",
       "Linear SVM             84.71%        6.14%            86.08%           6.29%\n",
       "Polynomial SVM         73.24%        5.49%            74.94%           6.14%\n",
       "Gaussian SVM           77.65%        4.40%            78.66%           3.98%\n",
       "kNN                    62.35%        6.94%            62.62%           7.60%"
      ]
     },
     "execution_count": 49,
     "metadata": {},
     "output_type": "execute_result"
    }
   ],
   "source": [
    "### create dataframe\n",
    "\n",
    "data =np.array([ACCs, ACCs_sd, wACCs, wACCs_sd])\n",
    "\n",
    "pd.options.display.float_format = '{:.2%}'.format\n",
    "#data = data * 100\n",
    "#data = np.around(data, decimals=3)\n",
    "\n",
    "df = pd.DataFrame(data=data.T, index=models_labels, columns=['Accuracy Mean', 'Accuracy SD', 'W. Accuracy Mean', 'W. Accuracy SD'])\n",
    "df"
   ]
  },
  {
   "cell_type": "markdown",
   "id": "1c1dcb4f-2607-4435-bc40-acc43d7dafa5",
   "metadata": {},
   "source": [
    "# PLOTTING"
   ]
  },
  {
   "cell_type": "code",
   "execution_count": 51,
   "id": "4b6bad63-7d52-4adb-8669-3b5264f27e9d",
   "metadata": {},
   "outputs": [],
   "source": [
    "# same but with timing and data gathered for plotting\n",
    "\n",
    "models_labels = ['Tree','Random Forest','Linear SVM', 'Polynomial SVM', 'Gaussian SVM', 'kNN']\n",
    "models=[DecisionTreeClassifier(criterion='gini', min_samples_leaf=1),\n",
    "        RandomForestClassifier(n_estimators= 500, min_samples_leaf= 1, max_features=\"sqrt\"),\n",
    "        Pipeline([(\"scaler\", StandardScaler()),(\"svm\", LinearSVC(C=5)),]),\n",
    "        Pipeline([(\"scaler\", StandardScaler()),(\"svm\", SVC(C=50, degree=2, kernel='poly')),]),\n",
    "        Pipeline([(\"scaler\", StandardScaler()),(\"svm\", SVC(C=1000, gamma=0.01, kernel='rbf')),]),\n",
    "        KNeighborsClassifier(metric='manhattan', n_neighbors=1),\n",
    "       ]\n",
    "ACCs = []\n",
    "ACCs_sd = []\n",
    "wACCs = [] \n",
    "wACCs_sd = []\n",
    "times=[]\n",
    "\n",
    "\n",
    "# cross fold iterator\n",
    "k = 10\n",
    "kf = KFold(n_splits=k)\n",
    "\n",
    "for i in range(len(models)):\n",
    "    # to store all scores\n",
    "    mACCs = []\n",
    "    mWACCs = []\n",
    "    mtimes = []\n",
    "\n",
    "    fold = kf.split(ds) # gives an iterator object\n",
    "    \n",
    "    for n_fold in range(k):\n",
    "        # get the train/test datasets\n",
    "        result = next(fold)\n",
    "\n",
    "        learn = ds.iloc[result[0]]\n",
    "        test = ds.iloc[result[1]]\n",
    "        \n",
    "        #to make sure that it is working with the same learn\\test\n",
    "        #print(result[1][:5])\n",
    "\n",
    "        # fit model\n",
    "        start = time.time()\n",
    "        models[i].fit(learn.drop('Species', axis=1), learn.Species)\n",
    "        end = time.time()\n",
    "        \n",
    "        mtimes.append(end-start)\n",
    "\n",
    "        # get ACC and WACC\n",
    "        mACCs.append(models[i].score(test.drop('Species', axis=1), test.Species))\n",
    "        mWACCs.append(balanced_accuracy_score(test.Species, models[i].predict(test.drop('Species', axis=1))))\n",
    "    \n",
    "    ACCs.append(mACCs)\n",
    "    wACCs.append(mWACCs)\n",
    "    times.append(mtimes)"
   ]
  },
  {
   "cell_type": "code",
   "execution_count": 102,
   "id": "3aeb7770-f60f-4fb7-8701-9cce98809a4d",
   "metadata": {},
   "outputs": [
    {
     "data": {
      "image/png": "[encoded data removed]",
      "text/plain": [
       "<Figure size 640x480 with 1 Axes>"
      ]
     },
     "metadata": {},
     "output_type": "display_data"
    }
   ],
   "source": [
    "import matplotlib.pyplot as plt\n",
    "import seaborn as sns\n",
    "\n",
    "sns.set_style('darkgrid')        # darkgrid, whitegrid, dark, white and ticks\n",
    "plt.rc('axes', titlesize=18)     # fontsize of the axes title\n",
    "plt.rc('axes', labelsize=14)     # fontsize of the x and y labels\n",
    "plt.rc('xtick', labelsize=13)    # fontsize of the tick labels\n",
    "plt.rc('ytick', labelsize=13)    # fontsize of the tick labels\n",
    "plt.rc('legend', fontsize=13)    # legend fontsize\n",
    "plt.rc('font', size=13)          # controls default text sizes\n",
    "\n",
    "ax = sns.boxplot(wACCs, palette=sns.color_palette(\"colorblind\"), saturation=1)\n",
    "ax.set_ylabel(\"W. Accuracy\")\n",
    "ax.set_xticklabels(models_labels, rotation=45)\n",
    "for patch in ax.patches:\n",
    "    r, g, b, a = patch.get_facecolor()\n",
    "    patch.set_facecolor((r, g, b, .6))\n",
    "plt.show()"
   ]
  },
  {
   "cell_type": "code",
   "execution_count": null,
   "id": "7f4f326c-2273-4606-be22-153b94b65c3a",
   "metadata": {},
   "outputs": [],
   "source": []
  }
 ],
 "metadata": {
  "kernelspec": {
   "display_name": "Python 3 (ipykernel)",
   "language": "python",
   "name": "python3"
  },
  "language_info": {
   "codemirror_mode": {
    "name": "ipython",
    "version": 3
   },
   "file_extension": ".py",
   "mimetype": "text/x-python",
   "name": "python",
   "nbconvert_exporter": "python",
   "pygments_lexer": "ipython3",
   "version": "3.11.0"
  }
 },
 "nbformat": 4,
 "nbformat_minor": 5
}
